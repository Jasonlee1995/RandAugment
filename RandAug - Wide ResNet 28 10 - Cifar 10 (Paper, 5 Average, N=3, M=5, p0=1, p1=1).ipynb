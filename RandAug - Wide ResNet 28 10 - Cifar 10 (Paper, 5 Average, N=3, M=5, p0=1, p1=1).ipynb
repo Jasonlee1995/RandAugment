{
 "cells": [
  {
   "cell_type": "markdown",
   "metadata": {},
   "source": [
    "# RandAugment on Wide ResNet 28 10\n",
    "\n",
    "# 1. Environment Setup\n",
    "## 1.0. Check GPU"
   ]
  },
  {
   "cell_type": "code",
   "execution_count": 1,
   "metadata": {},
   "outputs": [
    {
     "name": "stdout",
     "output_type": "stream",
     "text": [
      "nvcc: NVIDIA (R) Cuda compiler driver\r\n",
      "Copyright (c) 2005-2020 NVIDIA Corporation\r\n",
      "Built on Mon_Oct_12_20:09:46_PDT_2020\r\n",
      "Cuda compilation tools, release 11.1, V11.1.105\r\n",
      "Build cuda_11.1.TC455_06.29190527_0\r\n"
     ]
    }
   ],
   "source": [
    "!nvcc --version"
   ]
  },
  {
   "cell_type": "code",
   "execution_count": null,
   "metadata": {},
   "outputs": [],
   "source": []
  },
  {
   "cell_type": "markdown",
   "metadata": {},
   "source": [
    "## 1.1. Import"
   ]
  },
  {
   "cell_type": "code",
   "execution_count": 2,
   "metadata": {},
   "outputs": [],
   "source": [
    "import augmentation, RandAugment, train\n",
    "import torch, torchvision\n",
    "import torchvision.transforms as transforms\n",
    "\n",
    "# Ignore Warning\n",
    "import warnings\n",
    "warnings.filterwarnings(action='ignore')"
   ]
  },
  {
   "cell_type": "code",
   "execution_count": null,
   "metadata": {},
   "outputs": [],
   "source": []
  },
  {
   "cell_type": "markdown",
   "metadata": {},
   "source": [
    "# 2. Data Preprocessing"
   ]
  },
  {
   "cell_type": "code",
   "execution_count": 3,
   "metadata": {},
   "outputs": [],
   "source": [
    "N, M, p0, p1 = 3, 5, 1, 1\n",
    "\n",
    "batch_size = 128\n",
    "cifar_dir = '../../../../data/OCR/Jason/cifar10/'\n",
    "\n",
    "transform_functions = ['Identity',\n",
    "                       'AutoContrast', 'Brightness', 'Color', 'Contrast', 'Equalize', 'Posterize', 'Sharpness', 'Solarize', \n",
    "                       'Rotate', 'ShearX', 'ShearY', 'TranslateX', 'TranslateY']"
   ]
  },
  {
   "cell_type": "code",
   "execution_count": 4,
   "metadata": {},
   "outputs": [],
   "source": [
    "pre_train_transform = [transforms.RandomCrop(32, padding=4), transforms.RandomHorizontalFlip()]\n",
    "post_train_transform = [augmentation.Cutout(1, 8), transforms.ToTensor(), \n",
    "                        transforms.Normalize(mean=[0.4921, 0.4828, 0.4474], std=[0.1950, 0.1922, 0.1940])]\n",
    "\n",
    "train_transform = RandAugment.RandAug(N, M, p0, p1, pre_train_transform, post_train_transform, transform_functions)\n",
    "\n",
    "test_transform = transforms.Compose([transforms.ToTensor(), \n",
    "                                     transforms.Normalize(mean=[0.4921, 0.4828, 0.4474], std=[0.1950, 0.1922, 0.1940])])\n",
    "\n",
    "train_dataset = torchvision.datasets.CIFAR10(cifar_dir, train=True, download=False, transform=train_transform)\n",
    "train_loader = torch.utils.data.DataLoader(train_dataset, batch_size=batch_size, shuffle=True, pin_memory=False)\n",
    "\n",
    "test_dataset = torchvision.datasets.CIFAR10(cifar_dir, train=False, download=False, transform=test_transform)\n",
    "test_loader = torch.utils.data.DataLoader(test_dataset, batch_size=batch_size, shuffle=False, pin_memory=False)"
   ]
  },
  {
   "cell_type": "code",
   "execution_count": null,
   "metadata": {},
   "outputs": [],
   "source": []
  },
  {
   "cell_type": "markdown",
   "metadata": {},
   "source": [
    "# 3. Train Model"
   ]
  },
  {
   "cell_type": "code",
   "execution_count": 5,
   "metadata": {},
   "outputs": [],
   "source": [
    "depth = 28\n",
    "widen_factor = 10\n",
    "dropout_rate = 0.3\n",
    "num_classes = 10\n",
    "\n",
    "gpu_id = 7\n",
    "count_freq = 60\n",
    "\n",
    "epochs = 201\n",
    "\n",
    "lr = 0.1\n",
    "momentum = 0.9\n",
    "weight_decay = 0.0005\n",
    "nesterov = True\n",
    "milestones = [60, 120, 160]"
   ]
  },
  {
   "cell_type": "code",
   "execution_count": 6,
   "metadata": {
    "scrolled": true
   },
   "outputs": [
    {
     "name": "stdout",
     "output_type": "stream",
     "text": [
      "************************************************************\n",
      "   Augmentation Number : 3, Magnitude : 5, P0 : 1, P1 : 1\n",
      "************************************************************\n",
      "\n",
      "Trial : 1 - Best Acc : 97.08\n",
      "Trial : 2 - Best Acc : 97.21\n",
      "Trial : 3 - Best Acc : 97.26\n",
      "Trial : 4 - Best Acc : 97.25\n",
      "Trial : 5 - Best Acc : 97.16\n",
      "\n",
      "[97.08, 97.21, 97.26, 97.25, 97.16]\n",
      "97.19200000000001\n"
     ]
    }
   ],
   "source": [
    "print('*' * 60)\n",
    "print('   Augmentation Number : {}, Magnitude : {}, P0 : {}, P1 : {}'.format(N, M, p0, p1))\n",
    "print('*' * 60)\n",
    "print()\n",
    "\n",
    "best_accs = []\n",
    "for i in range(5):\n",
    "    WRN_28_10 = train.Wide_ResNet_NoPrint(depth, widen_factor, dropout_rate, num_classes, gpu_id, count_freq)\n",
    "    WRN_28_10.train(train_loader, test_loader, epochs, lr, momentum, weight_decay, nesterov, milestones)\n",
    "    \n",
    "    best_accs.append(WRN_28_10.best_acc)\n",
    "    print('Trial : {} - Best Acc : {}'.format(i+1, best_accs[-1]))\n",
    "    \n",
    "print()\n",
    "print(best_accs)\n",
    "print(sum(best_accs)/len(best_accs))"
   ]
  }
 ],
 "metadata": {
  "kernelspec": {
   "display_name": "Python 3",
   "language": "python",
   "name": "python3"
  },
  "language_info": {
   "codemirror_mode": {
    "name": "ipython",
    "version": 3
   },
   "file_extension": ".py",
   "mimetype": "text/x-python",
   "name": "python",
   "nbconvert_exporter": "python",
   "pygments_lexer": "ipython3",
   "version": "3.8.8"
  }
 },
 "nbformat": 4,
 "nbformat_minor": 2
}
